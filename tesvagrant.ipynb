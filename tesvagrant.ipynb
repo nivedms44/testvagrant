{
  "metadata": {
    "language_info": {
      "codemirror_mode": {
        "name": "python",
        "version": 3
      },
      "file_extension": ".py",
      "mimetype": "text/x-python",
      "name": "python",
      "nbconvert_exporter": "python",
      "pygments_lexer": "ipython3",
      "version": "3.8"
    },
    "kernelspec": {
      "name": "python",
      "display_name": "Python (Pyodide)",
      "language": "python"
    }
  },
  "nbformat_minor": 4,
  "nbformat": 4,
  "cells": [
    {
      "cell_type": "code",
      "source": "weekdays = {  26 :\"TOI\",\n              19 :\"Hindu\",\n              34 :\"ET\",\n              10.5 :\"BM\",\n              18 :\"HT\"\n\n              }\n\nuserinput =input()\nlist1 =[]\nfor i in weekdays:\n    for j in weekdays:\n        if list(weekdays).index(j )<=list(weekdays).index(i):\n            continue\n        else:\n            if i+ j < int(userinput):\n                list1.append((weekdays[i], weekdays[j]))\nprint(list1)",
      "metadata": {},
      "execution_count": null,
      "outputs": []
    }
  ]
}